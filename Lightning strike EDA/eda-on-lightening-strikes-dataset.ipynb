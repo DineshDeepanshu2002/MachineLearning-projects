{
 "cells": [
  {
   "cell_type": "markdown",
   "id": "c310bf96",
   "metadata": {
    "papermill": {
     "duration": 0.004547,
     "end_time": "2024-11-22T16:38:29.085472",
     "exception": false,
     "start_time": "2024-11-22T16:38:29.080925",
     "status": "completed"
    },
    "tags": []
   },
   "source": [
    "# **Overview**\r\n",
    "In this notebook, we will use pandas to examine 2018 lightning strike data collected by the National Oceanic and Atmospheric Administration (NOAA). Then, we will calculate the total number of strikes for each month and plot this information on a bar graph."
   ]
  },
  {
   "cell_type": "markdown",
   "id": "5ce5465c",
   "metadata": {
    "papermill": {
     "duration": 0.003459,
     "end_time": "2024-11-22T16:38:29.092855",
     "exception": false,
     "start_time": "2024-11-22T16:38:29.089396",
     "status": "completed"
    },
    "tags": []
   },
   "source": [
    "# Importing Packages and Libraries"
   ]
  },
  {
   "cell_type": "code",
   "execution_count": 1,
   "id": "4e4d96c2",
   "metadata": {
    "execution": {
     "iopub.execute_input": "2024-11-22T16:38:29.101836Z",
     "iopub.status.busy": "2024-11-22T16:38:29.101435Z",
     "iopub.status.idle": "2024-11-22T16:38:29.968119Z",
     "shell.execute_reply": "2024-11-22T16:38:29.967123Z"
    },
    "papermill": {
     "duration": 0.873949,
     "end_time": "2024-11-22T16:38:29.970444",
     "exception": false,
     "start_time": "2024-11-22T16:38:29.096495",
     "status": "completed"
    },
    "tags": []
   },
   "outputs": [],
   "source": [
    "# Importing libraries and packages \n",
    "import pandas as pd\n",
    "import numpy as np\n",
    "import matplotlib.pyplot as plt\n",
    "import datetime as dt"
   ]
  },
  {
   "cell_type": "code",
   "execution_count": 2,
   "id": "f7e944dd",
   "metadata": {
    "execution": {
     "iopub.execute_input": "2024-11-22T16:38:29.980406Z",
     "iopub.status.busy": "2024-11-22T16:38:29.979969Z",
     "iopub.status.idle": "2024-11-22T16:38:33.764618Z",
     "shell.execute_reply": "2024-11-22T16:38:33.763488Z"
    },
    "papermill": {
     "duration": 3.792716,
     "end_time": "2024-11-22T16:38:33.767127",
     "exception": false,
     "start_time": "2024-11-22T16:38:29.974411",
     "status": "completed"
    },
    "tags": []
   },
   "outputs": [],
   "source": [
    "# Reading Dataset \n",
    "df = pd.read_csv('/kaggle/input/lightening-strikes-dataset-noaa/lightening strikes dataset.csv')"
   ]
  },
  {
   "cell_type": "code",
   "execution_count": 3,
   "id": "a30f2787",
   "metadata": {
    "execution": {
     "iopub.execute_input": "2024-11-22T16:38:33.777136Z",
     "iopub.status.busy": "2024-11-22T16:38:33.776771Z",
     "iopub.status.idle": "2024-11-22T16:38:33.795780Z",
     "shell.execute_reply": "2024-11-22T16:38:33.794681Z"
    },
    "papermill": {
     "duration": 0.026623,
     "end_time": "2024-11-22T16:38:33.798161",
     "exception": false,
     "start_time": "2024-11-22T16:38:33.771538",
     "status": "completed"
    },
    "tags": []
   },
   "outputs": [
    {
     "data": {
      "text/html": [
       "<div>\n",
       "<style scoped>\n",
       "    .dataframe tbody tr th:only-of-type {\n",
       "        vertical-align: middle;\n",
       "    }\n",
       "\n",
       "    .dataframe tbody tr th {\n",
       "        vertical-align: top;\n",
       "    }\n",
       "\n",
       "    .dataframe thead th {\n",
       "        text-align: right;\n",
       "    }\n",
       "</style>\n",
       "<table border=\"1\" class=\"dataframe\">\n",
       "  <thead>\n",
       "    <tr style=\"text-align: right;\">\n",
       "      <th></th>\n",
       "      <th>date</th>\n",
       "      <th>number_of_strikes</th>\n",
       "      <th>center_point_geom</th>\n",
       "    </tr>\n",
       "  </thead>\n",
       "  <tbody>\n",
       "    <tr>\n",
       "      <th>0</th>\n",
       "      <td>2018-01-03</td>\n",
       "      <td>194</td>\n",
       "      <td>POINT(-75 27)</td>\n",
       "    </tr>\n",
       "    <tr>\n",
       "      <th>1</th>\n",
       "      <td>2018-01-03</td>\n",
       "      <td>41</td>\n",
       "      <td>POINT(-78.4 29)</td>\n",
       "    </tr>\n",
       "    <tr>\n",
       "      <th>2</th>\n",
       "      <td>2018-01-03</td>\n",
       "      <td>33</td>\n",
       "      <td>POINT(-73.9 27)</td>\n",
       "    </tr>\n",
       "    <tr>\n",
       "      <th>3</th>\n",
       "      <td>2018-01-03</td>\n",
       "      <td>38</td>\n",
       "      <td>POINT(-73.8 27)</td>\n",
       "    </tr>\n",
       "    <tr>\n",
       "      <th>4</th>\n",
       "      <td>2018-01-03</td>\n",
       "      <td>92</td>\n",
       "      <td>POINT(-79 28)</td>\n",
       "    </tr>\n",
       "    <tr>\n",
       "      <th>5</th>\n",
       "      <td>2018-01-03</td>\n",
       "      <td>119</td>\n",
       "      <td>POINT(-78 28)</td>\n",
       "    </tr>\n",
       "    <tr>\n",
       "      <th>6</th>\n",
       "      <td>2018-01-03</td>\n",
       "      <td>35</td>\n",
       "      <td>POINT(-79.3 28)</td>\n",
       "    </tr>\n",
       "    <tr>\n",
       "      <th>7</th>\n",
       "      <td>2018-01-03</td>\n",
       "      <td>60</td>\n",
       "      <td>POINT(-79.1 28)</td>\n",
       "    </tr>\n",
       "    <tr>\n",
       "      <th>8</th>\n",
       "      <td>2018-01-03</td>\n",
       "      <td>41</td>\n",
       "      <td>POINT(-78.7 28)</td>\n",
       "    </tr>\n",
       "    <tr>\n",
       "      <th>9</th>\n",
       "      <td>2018-01-03</td>\n",
       "      <td>119</td>\n",
       "      <td>POINT(-78.6 28)</td>\n",
       "    </tr>\n",
       "  </tbody>\n",
       "</table>\n",
       "</div>"
      ],
      "text/plain": [
       "         date  number_of_strikes center_point_geom\n",
       "0  2018-01-03                194     POINT(-75 27)\n",
       "1  2018-01-03                 41   POINT(-78.4 29)\n",
       "2  2018-01-03                 33   POINT(-73.9 27)\n",
       "3  2018-01-03                 38   POINT(-73.8 27)\n",
       "4  2018-01-03                 92     POINT(-79 28)\n",
       "5  2018-01-03                119     POINT(-78 28)\n",
       "6  2018-01-03                 35   POINT(-79.3 28)\n",
       "7  2018-01-03                 60   POINT(-79.1 28)\n",
       "8  2018-01-03                 41   POINT(-78.7 28)\n",
       "9  2018-01-03                119   POINT(-78.6 28)"
      ]
     },
     "execution_count": 3,
     "metadata": {},
     "output_type": "execute_result"
    }
   ],
   "source": [
    "# Inspecting the dataset first 10 rows\n",
    "df.head(10)"
   ]
  },
  {
   "cell_type": "code",
   "execution_count": 4,
   "id": "7807d76c",
   "metadata": {
    "execution": {
     "iopub.execute_input": "2024-11-22T16:38:33.808222Z",
     "iopub.status.busy": "2024-11-22T16:38:33.807837Z",
     "iopub.status.idle": "2024-11-22T16:38:33.814718Z",
     "shell.execute_reply": "2024-11-22T16:38:33.813608Z"
    },
    "papermill": {
     "duration": 0.014539,
     "end_time": "2024-11-22T16:38:33.816772",
     "exception": false,
     "start_time": "2024-11-22T16:38:33.802233",
     "status": "completed"
    },
    "tags": []
   },
   "outputs": [
    {
     "data": {
      "text/plain": [
       "(3401012, 3)"
      ]
     },
     "execution_count": 4,
     "metadata": {},
     "output_type": "execute_result"
    }
   ],
   "source": [
    "# Checking dataset total entries(Rows, Columns) \n",
    "df.shape"
   ]
  },
  {
   "cell_type": "code",
   "execution_count": 5,
   "id": "d4237ad3",
   "metadata": {
    "execution": {
     "iopub.execute_input": "2024-11-22T16:38:33.827255Z",
     "iopub.status.busy": "2024-11-22T16:38:33.826899Z",
     "iopub.status.idle": "2024-11-22T16:38:33.853647Z",
     "shell.execute_reply": "2024-11-22T16:38:33.852428Z"
    },
    "papermill": {
     "duration": 0.034759,
     "end_time": "2024-11-22T16:38:33.855770",
     "exception": false,
     "start_time": "2024-11-22T16:38:33.821011",
     "status": "completed"
    },
    "tags": []
   },
   "outputs": [
    {
     "name": "stdout",
     "output_type": "stream",
     "text": [
      "<class 'pandas.core.frame.DataFrame'>\n",
      "RangeIndex: 3401012 entries, 0 to 3401011\n",
      "Data columns (total 3 columns):\n",
      " #   Column             Dtype \n",
      "---  ------             ----- \n",
      " 0   date               object\n",
      " 1   number_of_strikes  int64 \n",
      " 2   center_point_geom  object\n",
      "dtypes: int64(1), object(2)\n",
      "memory usage: 77.8+ MB\n"
     ]
    }
   ],
   "source": [
    "# Get more information about the data, including data types of each column\n",
    "df.info()"
   ]
  },
  {
   "cell_type": "markdown",
   "id": "d32aad5f",
   "metadata": {
    "papermill": {
     "duration": 0.004915,
     "end_time": "2024-11-22T16:38:33.864988",
     "exception": false,
     "start_time": "2024-11-22T16:38:33.860073",
     "status": "completed"
    },
    "tags": []
   },
   "source": [
    "# **Convert the date column to datetime**\n",
    "info will provide the total number of rows (3,401,012) and columns (3). It will also state the names and data types of each column, as well as the size of the dataframe in memory.\r\n",
    "\r\n",
    "In this case, notice that the date column is an 'object' type rather than a 'date' type. Objects are strings. When dates are encoded as strings, they cannot be manipulated as easily. Converting string dates to datetime will enable you to work with them much more easily.\r\n",
    "\r\n",
    "Let's convert to datetime using the pandas function to_datetime()."
   ]
  },
  {
   "cell_type": "code",
   "execution_count": 6,
   "id": "6fa521dd",
   "metadata": {
    "execution": {
     "iopub.execute_input": "2024-11-22T16:38:33.875372Z",
     "iopub.status.busy": "2024-11-22T16:38:33.874446Z",
     "iopub.status.idle": "2024-11-22T16:38:34.318505Z",
     "shell.execute_reply": "2024-11-22T16:38:34.317465Z"
    },
    "papermill": {
     "duration": 0.452012,
     "end_time": "2024-11-22T16:38:34.321132",
     "exception": false,
     "start_time": "2024-11-22T16:38:33.869120",
     "status": "completed"
    },
    "tags": []
   },
   "outputs": [],
   "source": [
    "# Convert date column to datetime\n",
    "df['date']= pd.to_datetime(df['date'])"
   ]
  },
  {
   "cell_type": "markdown",
   "id": "7bcaba86",
   "metadata": {
    "papermill": {
     "duration": 0.004447,
     "end_time": "2024-11-22T16:38:34.330143",
     "exception": false,
     "start_time": "2024-11-22T16:38:34.325696",
     "status": "completed"
    },
    "tags": []
   },
   "source": [
    "# **Calculate the days with the most strikes**\r\n",
    "As part of discovering, you want to get an idea of the highest data points. For this dataset, we can calculate the top 10 days of 2018 with the most number of lightning strikes using the groupby(), sum(), and sort_values() functions from pandas.\r\n",
    "\r\n",
    "When using groupby() on the date column, the function combines all rows with the same date into a single row.\r\n",
    "\r\n",
    "Then, using sum() performs a sum calculation on all other summable columns. In this case, we are summing all the lightning strikes that happened on each day. Notice that the center_point_geom column is not included in the outCenter point geom column is not relevant for our desired output.able.\r\n",
    "\r\n",
    "Finally, sort_values() returns the results in descending order of total strikes for each day in the data."
   ]
  },
  {
   "cell_type": "code",
   "execution_count": 7,
   "id": "85cc1e3c",
   "metadata": {
    "execution": {
     "iopub.execute_input": "2024-11-22T16:38:34.340138Z",
     "iopub.status.busy": "2024-11-22T16:38:34.339755Z",
     "iopub.status.idle": "2024-11-22T16:38:34.437723Z",
     "shell.execute_reply": "2024-11-22T16:38:34.436714Z"
    },
    "papermill": {
     "duration": 0.10554,
     "end_time": "2024-11-22T16:38:34.439930",
     "exception": false,
     "start_time": "2024-11-22T16:38:34.334390",
     "status": "completed"
    },
    "tags": []
   },
   "outputs": [
    {
     "data": {
      "text/html": [
       "<div>\n",
       "<style scoped>\n",
       "    .dataframe tbody tr th:only-of-type {\n",
       "        vertical-align: middle;\n",
       "    }\n",
       "\n",
       "    .dataframe tbody tr th {\n",
       "        vertical-align: top;\n",
       "    }\n",
       "\n",
       "    .dataframe thead th {\n",
       "        text-align: right;\n",
       "    }\n",
       "</style>\n",
       "<table border=\"1\" class=\"dataframe\">\n",
       "  <thead>\n",
       "    <tr style=\"text-align: right;\">\n",
       "      <th></th>\n",
       "      <th>number_of_strikes</th>\n",
       "    </tr>\n",
       "    <tr>\n",
       "      <th>date</th>\n",
       "      <th></th>\n",
       "    </tr>\n",
       "  </thead>\n",
       "  <tbody>\n",
       "    <tr>\n",
       "      <th>2018-08-29</th>\n",
       "      <td>1070457</td>\n",
       "    </tr>\n",
       "    <tr>\n",
       "      <th>2018-08-17</th>\n",
       "      <td>969774</td>\n",
       "    </tr>\n",
       "    <tr>\n",
       "      <th>2018-08-28</th>\n",
       "      <td>917199</td>\n",
       "    </tr>\n",
       "    <tr>\n",
       "      <th>2018-08-27</th>\n",
       "      <td>824589</td>\n",
       "    </tr>\n",
       "    <tr>\n",
       "      <th>2018-08-30</th>\n",
       "      <td>802170</td>\n",
       "    </tr>\n",
       "    <tr>\n",
       "      <th>2018-08-19</th>\n",
       "      <td>786225</td>\n",
       "    </tr>\n",
       "    <tr>\n",
       "      <th>2018-08-18</th>\n",
       "      <td>741180</td>\n",
       "    </tr>\n",
       "    <tr>\n",
       "      <th>2018-08-16</th>\n",
       "      <td>734475</td>\n",
       "    </tr>\n",
       "    <tr>\n",
       "      <th>2018-08-31</th>\n",
       "      <td>723624</td>\n",
       "    </tr>\n",
       "    <tr>\n",
       "      <th>2018-08-15</th>\n",
       "      <td>673455</td>\n",
       "    </tr>\n",
       "  </tbody>\n",
       "</table>\n",
       "</div>"
      ],
      "text/plain": [
       "            number_of_strikes\n",
       "date                         \n",
       "2018-08-29            1070457\n",
       "2018-08-17             969774\n",
       "2018-08-28             917199\n",
       "2018-08-27             824589\n",
       "2018-08-30             802170\n",
       "2018-08-19             786225\n",
       "2018-08-18             741180\n",
       "2018-08-16             734475\n",
       "2018-08-31             723624\n",
       "2018-08-15             673455"
      ]
     },
     "execution_count": 7,
     "metadata": {},
     "output_type": "execute_result"
    }
   ],
   "source": [
    "# Calculating days with most strikes \n",
    "df = df.drop('center_point_geom', axis = 1)\n",
    "df.groupby(['date']).sum().sort_values('number_of_strikes', ascending= False).head(10)"
   ]
  },
  {
   "cell_type": "markdown",
   "id": "1bc58912",
   "metadata": {
    "papermill": {
     "duration": 0.004521,
     "end_time": "2024-11-22T16:38:34.448843",
     "exception": false,
     "start_time": "2024-11-22T16:38:34.444322",
     "status": "completed"
    },
    "tags": []
   },
   "source": [
    "# **Convert the dates to month text and month numbers**"
   ]
  },
  {
   "cell_type": "code",
   "execution_count": 8,
   "id": "fe198605",
   "metadata": {
    "execution": {
     "iopub.execute_input": "2024-11-22T16:38:34.459272Z",
     "iopub.status.busy": "2024-11-22T16:38:34.458895Z",
     "iopub.status.idle": "2024-11-22T16:38:36.438610Z",
     "shell.execute_reply": "2024-11-22T16:38:36.437649Z"
    },
    "papermill": {
     "duration": 1.987526,
     "end_time": "2024-11-22T16:38:36.440853",
     "exception": false,
     "start_time": "2024-11-22T16:38:34.453327",
     "status": "completed"
    },
    "tags": []
   },
   "outputs": [
    {
     "data": {
      "text/html": [
       "<div>\n",
       "<style scoped>\n",
       "    .dataframe tbody tr th:only-of-type {\n",
       "        vertical-align: middle;\n",
       "    }\n",
       "\n",
       "    .dataframe tbody tr th {\n",
       "        vertical-align: top;\n",
       "    }\n",
       "\n",
       "    .dataframe thead th {\n",
       "        text-align: right;\n",
       "    }\n",
       "</style>\n",
       "<table border=\"1\" class=\"dataframe\">\n",
       "  <thead>\n",
       "    <tr style=\"text-align: right;\">\n",
       "      <th></th>\n",
       "      <th>date</th>\n",
       "      <th>number_of_strikes</th>\n",
       "      <th>month</th>\n",
       "      <th>month_txt</th>\n",
       "    </tr>\n",
       "  </thead>\n",
       "  <tbody>\n",
       "    <tr>\n",
       "      <th>0</th>\n",
       "      <td>2018-01-03</td>\n",
       "      <td>194</td>\n",
       "      <td>1</td>\n",
       "      <td>Jan</td>\n",
       "    </tr>\n",
       "    <tr>\n",
       "      <th>1</th>\n",
       "      <td>2018-01-03</td>\n",
       "      <td>41</td>\n",
       "      <td>1</td>\n",
       "      <td>Jan</td>\n",
       "    </tr>\n",
       "    <tr>\n",
       "      <th>2</th>\n",
       "      <td>2018-01-03</td>\n",
       "      <td>33</td>\n",
       "      <td>1</td>\n",
       "      <td>Jan</td>\n",
       "    </tr>\n",
       "    <tr>\n",
       "      <th>3</th>\n",
       "      <td>2018-01-03</td>\n",
       "      <td>38</td>\n",
       "      <td>1</td>\n",
       "      <td>Jan</td>\n",
       "    </tr>\n",
       "    <tr>\n",
       "      <th>4</th>\n",
       "      <td>2018-01-03</td>\n",
       "      <td>92</td>\n",
       "      <td>1</td>\n",
       "      <td>Jan</td>\n",
       "    </tr>\n",
       "  </tbody>\n",
       "</table>\n",
       "</div>"
      ],
      "text/plain": [
       "        date  number_of_strikes  month month_txt\n",
       "0 2018-01-03                194      1       Jan\n",
       "1 2018-01-03                 41      1       Jan\n",
       "2 2018-01-03                 33      1       Jan\n",
       "3 2018-01-03                 38      1       Jan\n",
       "4 2018-01-03                 92      1       Jan"
      ]
     },
     "execution_count": 8,
     "metadata": {},
     "output_type": "execute_result"
    }
   ],
   "source": [
    "# Create a new 'month' column for numerical month representation\n",
    "df['month'] = df['date'].dt.month\n",
    "# Create a new 'month_txt' column for abbreviated month names\n",
    "df['month_txt'] = df['date'].dt.month_name().str.slice(stop=3)\n",
    "df.head()"
   ]
  },
  {
   "cell_type": "markdown",
   "id": "a239c301",
   "metadata": {
    "papermill": {
     "duration": 0.004439,
     "end_time": "2024-11-22T16:38:36.449952",
     "exception": false,
     "start_time": "2024-11-22T16:38:36.445513",
     "status": "completed"
    },
    "tags": []
   },
   "source": [
    "# **Create a new dataframe**\r\n",
    "The objective is to plot the total number of strikes per month as a bar graph. To help with the plotting, we will create a new dataframe called dy_month. This will allow us to easily access the month, month text, and total number of strikes for each month."
   ]
  },
  {
   "cell_type": "code",
   "execution_count": 9,
   "id": "77f3e2e4",
   "metadata": {
    "execution": {
     "iopub.execute_input": "2024-11-22T16:38:36.461357Z",
     "iopub.status.busy": "2024-11-22T16:38:36.460398Z",
     "iopub.status.idle": "2024-11-22T16:38:36.937286Z",
     "shell.execute_reply": "2024-11-22T16:38:36.936195Z"
    },
    "papermill": {
     "duration": 0.484843,
     "end_time": "2024-11-22T16:38:36.939469",
     "exception": false,
     "start_time": "2024-11-22T16:38:36.454626",
     "status": "completed"
    },
    "tags": []
   },
   "outputs": [
    {
     "data": {
      "text/html": [
       "<div>\n",
       "<style scoped>\n",
       "    .dataframe tbody tr th:only-of-type {\n",
       "        vertical-align: middle;\n",
       "    }\n",
       "\n",
       "    .dataframe tbody tr th {\n",
       "        vertical-align: top;\n",
       "    }\n",
       "\n",
       "    .dataframe thead th {\n",
       "        text-align: right;\n",
       "    }\n",
       "</style>\n",
       "<table border=\"1\" class=\"dataframe\">\n",
       "  <thead>\n",
       "    <tr style=\"text-align: right;\">\n",
       "      <th></th>\n",
       "      <th>month</th>\n",
       "      <th>month_txt</th>\n",
       "      <th>number_of_strikes</th>\n",
       "    </tr>\n",
       "  </thead>\n",
       "  <tbody>\n",
       "    <tr>\n",
       "      <th>0</th>\n",
       "      <td>1</td>\n",
       "      <td>Jan</td>\n",
       "      <td>860045</td>\n",
       "    </tr>\n",
       "    <tr>\n",
       "      <th>1</th>\n",
       "      <td>2</td>\n",
       "      <td>Feb</td>\n",
       "      <td>2071315</td>\n",
       "    </tr>\n",
       "    <tr>\n",
       "      <th>2</th>\n",
       "      <td>3</td>\n",
       "      <td>Mar</td>\n",
       "      <td>854168</td>\n",
       "    </tr>\n",
       "    <tr>\n",
       "      <th>3</th>\n",
       "      <td>4</td>\n",
       "      <td>Apr</td>\n",
       "      <td>1524339</td>\n",
       "    </tr>\n",
       "    <tr>\n",
       "      <th>4</th>\n",
       "      <td>5</td>\n",
       "      <td>May</td>\n",
       "      <td>4166726</td>\n",
       "    </tr>\n",
       "    <tr>\n",
       "      <th>5</th>\n",
       "      <td>6</td>\n",
       "      <td>Jun</td>\n",
       "      <td>6445083</td>\n",
       "    </tr>\n",
       "    <tr>\n",
       "      <th>6</th>\n",
       "      <td>7</td>\n",
       "      <td>Jul</td>\n",
       "      <td>8320400</td>\n",
       "    </tr>\n",
       "    <tr>\n",
       "      <th>7</th>\n",
       "      <td>8</td>\n",
       "      <td>Aug</td>\n",
       "      <td>15525255</td>\n",
       "    </tr>\n",
       "    <tr>\n",
       "      <th>8</th>\n",
       "      <td>9</td>\n",
       "      <td>Sep</td>\n",
       "      <td>3018336</td>\n",
       "    </tr>\n",
       "    <tr>\n",
       "      <th>9</th>\n",
       "      <td>10</td>\n",
       "      <td>Oct</td>\n",
       "      <td>1093962</td>\n",
       "    </tr>\n",
       "    <tr>\n",
       "      <th>10</th>\n",
       "      <td>11</td>\n",
       "      <td>Nov</td>\n",
       "      <td>409263</td>\n",
       "    </tr>\n",
       "    <tr>\n",
       "      <th>11</th>\n",
       "      <td>12</td>\n",
       "      <td>Dec</td>\n",
       "      <td>312097</td>\n",
       "    </tr>\n",
       "  </tbody>\n",
       "</table>\n",
       "</div>"
      ],
      "text/plain": [
       "    month month_txt  number_of_strikes\n",
       "0       1       Jan             860045\n",
       "1       2       Feb            2071315\n",
       "2       3       Mar             854168\n",
       "3       4       Apr            1524339\n",
       "4       5       May            4166726\n",
       "5       6       Jun            6445083\n",
       "6       7       Jul            8320400\n",
       "7       8       Aug           15525255\n",
       "8       9       Sep            3018336\n",
       "9      10       Oct            1093962\n",
       "10     11       Nov             409263\n",
       "11     12       Dec             312097"
      ]
     },
     "execution_count": 9,
     "metadata": {},
     "output_type": "execute_result"
    }
   ],
   "source": [
    "# Create a new helper dataframe for plotting.\n",
    "# Group by 'month' and 'month_txt', then aggregate and sort\n",
    "df_by_month = df.groupby(['month','month_txt']).sum(numeric_only=True).sort_values('month', ascending=True).head(12).reset_index()\n",
    "df_by_month\n"
   ]
  },
  {
   "cell_type": "markdown",
   "id": "0e642dd9",
   "metadata": {
    "papermill": {
     "duration": 0.004455,
     "end_time": "2024-11-22T16:38:36.948684",
     "exception": false,
     "start_time": "2024-11-22T16:38:36.944229",
     "status": "completed"
    },
    "tags": []
   },
   "source": [
    "# **Bar Chart for the Lightening Strike According to Month**"
   ]
  },
  {
   "cell_type": "code",
   "execution_count": 10,
   "id": "92733300",
   "metadata": {
    "execution": {
     "iopub.execute_input": "2024-11-22T16:38:36.959355Z",
     "iopub.status.busy": "2024-11-22T16:38:36.958985Z",
     "iopub.status.idle": "2024-11-22T16:38:37.296619Z",
     "shell.execute_reply": "2024-11-22T16:38:37.295520Z"
    },
    "papermill": {
     "duration": 0.34569,
     "end_time": "2024-11-22T16:38:37.298916",
     "exception": false,
     "start_time": "2024-11-22T16:38:36.953226",
     "status": "completed"
    },
    "tags": []
   },
   "outputs": [
    {
     "data": {
      "image/png": "[encoded data removed]",
      "text/plain": [
       "<Figure size 640x480 with 1 Axes>"
      ]
     },
     "metadata": {},
     "output_type": "display_data"
    }
   ],
   "source": [
    "plt.bar(x=df_by_month['month_txt'], height = df_by_month['number_of_strikes'], label=\"Number of Lightening Strikes Per Month\")\n",
    "\n",
    "plt.xlabel(\"Months(Year 2018)\")\n",
    "plt.ylabel(\"Number of Strikes\")\n",
    "plt.title(\"Lightening Strikes Per Month in 2018\")\n",
    "plt.legend()\n",
    "plt.show()"
   ]
  },
  {
   "cell_type": "markdown",
   "id": "980cafa4",
   "metadata": {
    "papermill": {
     "duration": 0.004925,
     "end_time": "2024-11-22T16:38:37.309393",
     "exception": false,
     "start_time": "2024-11-22T16:38:37.304468",
     "status": "completed"
    },
    "tags": []
   },
   "source": [
    "# **Line Chart for the Lightening Strike According to Month**"
   ]
  },
  {
   "cell_type": "code",
   "execution_count": 11,
   "id": "2a754349",
   "metadata": {
    "execution": {
     "iopub.execute_input": "2024-11-22T16:38:37.321282Z",
     "iopub.status.busy": "2024-11-22T16:38:37.320932Z",
     "iopub.status.idle": "2024-11-22T16:38:37.603357Z",
     "shell.execute_reply": "2024-11-22T16:38:37.602331Z"
    },
    "papermill": {
     "duration": 0.290951,
     "end_time": "2024-11-22T16:38:37.605483",
     "exception": false,
     "start_time": "2024-11-22T16:38:37.314532",
     "status": "completed"
    },
    "tags": []
   },
   "outputs": [
    {
     "data": {
      "image/png": "[encoded data removed]",
      "text/plain": [
       "<Figure size 640x480 with 1 Axes>"
      ]
     },
     "metadata": {},
     "output_type": "display_data"
    }
   ],
   "source": [
    "plt.plot(df_by_month['month_txt'], df_by_month['number_of_strikes'])\n",
    "plt.xlabel('Months(Year 2018)')\n",
    "plt.ylabel('Number of Strikes')\n",
    "plt.title('Lightening Strikes Per Month in 2018')\n",
    "plt.legend()\n",
    "plt.show()"
   ]
  }
 ],
 "metadata": {
  "kaggle": {
   "accelerator": "none",
   "dataSources": [
    {
     "datasetId": 6140491,
     "sourceId": 9979340,
     "sourceType": "datasetVersion"
    }
   ],
   "dockerImageVersionId": 30786,
   "isGpuEnabled": false,
   "isInternetEnabled": true,
   "language": "python",
   "sourceType": "notebook"
  },
  "kernelspec": {
   "display_name": "Python 3",
   "language": "python",
   "name": "python3"
  },
  "language_info": {
   "codemirror_mode": {
    "name": "ipython",
    "version": 3
   },
   "file_extension": ".py",
   "mimetype": "text/x-python",
   "name": "python",
   "nbconvert_exporter": "python",
   "pygments_lexer": "ipython3",
   "version": "3.10.14"
  },
  "papermill": {
   "default_parameters": {},
   "duration": 11.859963,
   "end_time": "2024-11-22T16:38:38.232251",
   "environment_variables": {},
   "exception": null,
   "input_path": "__notebook__.ipynb",
   "output_path": "__notebook__.ipynb",
   "parameters": {},
   "start_time": "2024-11-22T16:38:26.372288",
   "version": "2.6.0"
  }
 },
 "nbformat": 4,
 "nbformat_minor": 5
}
